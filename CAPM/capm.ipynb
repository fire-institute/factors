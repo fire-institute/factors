import firefin
import pandas as pd
from grs import grs_test
from regression import RollingRegressor

#%%
#custumize
def customize_parameter(N_asset: int, T_time: int, windowsize: int, regression_until):
    return N_asset, T_time, windowsize, regression_until

N_asset, T_time, windowsize, regression_until = customize_parameter(
    50, 200, 60, "2009-10-26 15:00:00"
)
#%%
#get data
data = firefin.fetch_data(["return_adj", "cn_bond_30y"])
df2 = data["return_adj"]
thirty_year_bond=data["cn_bond_30y"]
#you can change the following scale of dataframe that align with your purpose
df3=df2.iloc[:T_time]
df2=df2.iloc[:T_time,:N_asset]

#%%
market_data = df2.fillna(0)
T=market_data.shape[0]
N=market_data.shape[1]
thirty_year_bond = thirty_year_bond.head(T)
thirty_year_bond['cn_bond_30y']=(1+thirty_year_bond['cn_bond_30y']/100)**(1/365)-1

# 对齐到 market_data 的每一个时间戳上：
thirty_year_bonds = thirty_year_bond['cn_bond_30y'].reindex(market_data.index, method='ffill')
# 然后按行相加：
stocks_excess_return = market_data.add(-thirty_year_bonds, axis=0)
#构造市场因子
market_excess_return=df3.mean(axis=1).add(-thirty_year_bonds, axis=0)
market_excess_return_matrix=pd.concat([market_excess_return]*N, axis=1)
market_excess_return_matrix.columns = market_data.columns
#%%
reg = RollingRegressor(
    x=market_excess_return,
    y=stocks_excess_return,
    mode="single",
    fit_intercept=True
)
window_size=windowsize              #输入窗口大小
result=reg.fit(window_size)
#%%
alpha=result.alpha
beta=result.beta
residual=result.residuals
